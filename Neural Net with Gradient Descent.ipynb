{
  "cells": [
    {
      "cell_type": "markdown",
      "metadata": {
        "id": "_JVD0tL691df"
      },
      "source": [
        "# Building a Neuron with PyTorch\n",
        "\n",
        "### Overview\n",
        "\n",
        "This notebook goes through the concepts of dot product multiplication, machine learning pipeline, data loaders, and model parameter estimation with Gradient Descent. It also implements gradient descent on MNIST images for classification. \n",
        "\n",
        "\n",
        "### Objectives:\n",
        "\n",
        "- Walk through PyTorch fundamental tools and data structures.\n",
        "- Set up modeling pipeline.\n",
        "- Implement Gradient Descent with different learning rates.\n",
        "- Train and test a logisitc regressor neuron for tabulated and image data\n",
        "- Compare from scratch and PyTorch implementation\n",
        "\n",
        "\n",
        "### Structure\n",
        "\n",
        "**Part 1: PyTorch Practice**\n",
        "\n",
        "**Part 2: From Scratch ML Pipeline**\n",
        "\n",
        "### Tutorials and Documentation Links For Help\n",
        "\n",
        "**Here are the links to tutorials:**\n",
        "\n",
        "- [PyTorch Tutorials](https://pytorch.org/tutorials/)\n",
        "- [Pandas Tutorials](https://github.com/CuriousNeuralNerd/Tutorials/blob/fbdeb171ed16958e7571df0f1272c68ce3f4d3ab/pandas_basics.ipynb)\n",
        "- [Matplotlib Tutorials](https://github.com/CuriousNeuralNerd/Tutorials/blob/fbdeb171ed16958e7571df0f1272c68ce3f4d3ab/matplotlib_basics.ipynb)\n",
        "- [scikit-learn Tutorials](https://github.com/CuriousNeuralNerd/Tutorials/blob/fbdeb171ed16958e7571df0f1272c68ce3f4d3ab/scikit_learn_basics.ipynb)\n",
        "\n",
        "\n",
        "**Here are the links to the official documentation for the libraries:**\n",
        "\n",
        "- [PyTorch Documentation](https://pytorch.org/docs/stable/index.html)\n",
        "- [NumPy Documentation](https://numpy.org/doc/stable/user/absolute_beginners.html)\n",
        "- [pandas Documentation](https://pandas.pydata.org/docs/user_guide/index.html#user-guide)\n",
        "- [Matplotlib Documentation](https://matplotlib.org/stable/users/explain/quick_start.html)\n",
        "- [scikit-learn Documentation](https://scikit-learn.org/stable/)"
      ]
    },
    {
      "cell_type": "markdown",
      "metadata": {
        "id": "uZHFuHkO2Hb1"
      },
      "source": [
        "## Libraries"
      ]
    },
    {
      "cell_type": "code",
      "execution_count": 2,
      "metadata": {
        "id": "pXUqm5VbIJ-H"
      },
      "outputs": [],
      "source": [
        "import torch\n",
        "import torchvision.utils as tv_utils\n",
        "from torchvision import transforms\n",
        "from torch.utils.data import Dataset, DataLoader\n",
        "import torch.nn as nn\n",
        "import torch.optim as optim\n",
        "import numpy as np\n",
        "import pandas as pd\n",
        "import matplotlib.pyplot as plt\n",
        "import copy"
      ]
    },
    {
      "cell_type": "markdown",
      "metadata": {
        "id": "Hu_-pMAdh1Ii"
      },
      "source": [
        "## 1. PyTorch Practice"
      ]
    },
    {
      "cell_type": "markdown",
      "metadata": {
        "id": "uIv4VqE-Lb5B"
      },
      "source": [
        "### 1.1 Dot Product\n",
        "\n",
        "![Dot Product: Piece by Piece](https://betterexplained.com/wp-content/webp-express/webp-images/uploads/dotproduct/dot_product_components.png.webp)\n",
        "\n",
        "#### Understanding the Dot Product in Machine Learning\n",
        "\n",
        "$$\n",
        "\\mathbf{a} \\cdot \\mathbf{b} = a_x \\cdot b_x + a_y \\cdot b_y = ||\\mathbf{a}|| ||\\mathbf{b}|| \\cos(\\theta)\n",
        "$$\n",
        "where\n",
        "- $\\mathbf{a}$ and $\\mathbf{b}$ are vectors.\n",
        "- $a_x$ and $b_x$ are the x-axis component of the vectors.\n",
        "- $a_y$ and $b_y$ are the y-axis component of the vectors.\n",
        "- $||\\mathbf{a}||$ and $||\\mathbf{b}||$ are their magnitudes (lengths).\n",
        "- $\\theta$ is the angle between them.\n",
        "\n",
        "The dot product (or matrix multiplication) is a fundamental operation in deep learning and machine learning. It provides an efficient way to compare numerical representations of two pieces of information.\n",
        "\n",
        "Read [this blog](https://betterexplained.com/articles/vector-calculus-understanding-the-dot-product) to capture the escence of the dot product operation.\n",
        "\n",
        "##### **Intuition Behind the Dot Product**\n",
        "You can think of the dot product as a form of directional multiplication:\n",
        "- If two vectors have similar directions, the dot product produces a large value relative to their magnitudes.\n",
        "- If the vectors are very different in direction (e.g., orthogonal to each other), the dot product yields a value close to zero.\n",
        "\n",
        "This concept is reinforced by the second equation showing a direct relationship between the dot product and the angle between two vectors:\n",
        "- When $\\theta = 0^\\circ$ (aligned vectors), $\\cos(\\theta) = 1$, resulting in a large positive dot product.\n",
        "- When $\\theta = 90^\\circ$ (orthogonal vectors), $\\cos(\\theta) = 0$, and the dot product is zero.\n",
        "- When $\\theta = 180^\\circ$ (opposite directions), $\\cos(\\theta) = -1$, leading to a large negative dot product.\n",
        "\n",
        "The dot product is the basis to one of the most popular similarity metrics in Machine Learning; the **Cosine Similarity** computed by normalizing the dot product with the magnitudes of the vectors.\n",
        "$$\n",
        "\\text{Cosine Similarity} = \\frac{\\mathbf{a} \\cdot \\mathbf{b}}{||\\mathbf{a}|| ||\\mathbf{b}||}\n",
        "$$\n",
        "This removes the influence of vector lengths and focuses solely on the direction, making it a useful metric in many applications:\n",
        "- Text similarity: Comparing document embeddings.\n",
        "- Feature matching: Identifying similar patterns in high-dimensional data.\n",
        "\n",
        "This concept extends naturally to matrices, which can be seen as collections of vectors. Thus, the dot product can be applied to measure similarities in more complex structures.\n",
        "\n",
        "##### **Key Takeaway**\n",
        "The dot product is a quick and efficient similarity measure:\n",
        "- **Larger dot product values** (relative to the magnitudes of the original vectors) indicate greater similarity.\n",
        "- **Smaller dot product values** suggest dissimilarity.\n",
        "\n",
        "##### **Task**\n",
        "Use the dot product to determine which samples in ```X``` are more relevant or similar to the model parameters ```w```. Note that your are not using the Cosine Similarity metric.\n",
        "\n",
        "The data is a stream of data from a sensor. The sensor camptures 5 samples per transmitted package and collects three features per sample. The samples arrive in sequence. E.g., $[x^{(0)}_1, x^{(0)}_2, x^{(0)}_3, x^{(1)}_1,...x^{(5)}_3]$, where the superscript is the sample index and the subscript is the feature index."
      ]
    },
    {
      "cell_type": "code",
      "execution_count": 3,
      "metadata": {
        "id": "FFHMxKUn8nP5"
      },
      "outputs": [],
      "source": [
        "# Stream of data\n",
        "data_package = [0.2, 0.8, 0.5, 0.9, 0.1, 0.4, 0.3, 0.7, 0.2, 0.6, 0.2, 0.8, 0.5, 0.4, 0.3]\n",
        "\n",
        "# Model weight vector\n",
        "w = torch.tensor([0.6, 0.3, 0.1], dtype=torch.float32)"
      ]
    },
    {
      "cell_type": "code",
      "execution_count": 6,
      "metadata": {
        "id": "93g8I68UtkWL"
      },
      "outputs": [
        {
          "name": "stdout",
          "output_type": "stream",
          "text": [
            "Data matrix:\n",
            "tensor([[0.2000, 0.8000, 0.5000],\n",
            "        [0.9000, 0.1000, 0.4000],\n",
            "        [0.3000, 0.7000, 0.2000],\n",
            "        [0.6000, 0.2000, 0.8000],\n",
            "        [0.5000, 0.4000, 0.3000]])\n",
            "\n",
            "Ranked Items:\n",
            "Rank 1; Sample 1: Features = [0.9 0.1 0.4], Score = 0.6100000739097595\n",
            "Rank 2; Sample 3: Features = [0.6 0.2 0.8], Score = 0.5\n",
            "Rank 3; Sample 4: Features = [0.5 0.4 0.3], Score = 0.45000001788139343\n",
            "Rank 4; Sample 0: Features = [0.2 0.8 0.5], Score = 0.4100000262260437\n",
            "Rank 5; Sample 2: Features = [0.3 0.7 0.2], Score = 0.4100000262260437\n"
          ]
        }
      ],
      "source": [
        "# Convert data to a float32 tensor matrix where the samples are in each row and\n",
        "# the features are in each column.\n",
        "X = torch.tensor(data_package, dtype=torch.float32).reshape(-1, 3)\n",
        "\n",
        "# Convert the weight vector to 2D tensor for best practice\n",
        "w = w.reshape((3,1))\n",
        "\n",
        "# Compute the similarity or relevance scores between the data samples and the\n",
        "# model parameters\n",
        "relevance_scores = torch.matmul(X, w).squeeze()\n",
        "\n",
        "# Rank items by relevance scores\n",
        "sorted_indices = torch.argsort(relevance_scores, descending=True)\n",
        "ranked_scores = relevance_scores[sorted_indices]\n",
        "ranked_features = X[sorted_indices]\n",
        "\n",
        "torch.tensor([1, 3, 4, 0, 2])\n",
        "\n",
        "# Output\n",
        "print(\"Data matrix:\")\n",
        "print(X)\n",
        "print(\"\\nRanked Items:\")\n",
        "for i, (features, score) in enumerate(zip(ranked_features, ranked_scores)):\n",
        "    print(f\"Rank {i + 1}; Sample {sorted_indices[i]}: Features = {features.numpy()}, Score = {score.item()}\")\n"
      ]
    },
    {
      "cell_type": "markdown",
      "metadata": {
        "id": "MIGxTSwNB2YA"
      },
      "source": [
        "### 1.2 Autograd\n",
        "\n",
        "This section shows how to use PyTorch autograd. It also mannually computes the gradients and compares results with autograd.\n",
        "\n",
        "Functions:\n",
        "- $c = 3a^3 + b^5$\n",
        "- $y = 2c + 2d^2$\n",
        "\n",
        "Use the chain rule and autograd to compute $\\frac{\\partial y}{\\partial a}, when ```a=[2, 5], b=[9,1], d=[-2,3]```."
      ]
    },
    {
      "cell_type": "code",
      "execution_count": 7,
      "metadata": {
        "id": "HudeszO4I8Zi"
      },
      "outputs": [],
      "source": [
        "# Manually compute dy/da\n",
        "# Return the result of using the chain rule on y.\n",
        "def manual_da_gradient(a, b, c, d):\n",
        "    \n",
        "    # Compute dc/da\n",
        "    dc_da = 9*a**2\n",
        "\n",
        "    # Compute dy/dc\n",
        "    dy_dc = 2\n",
        "\n",
        "    da = dc_da * dy_dc\n",
        "\n",
        "    return da"
      ]
    },
    {
      "cell_type": "code",
      "execution_count": 8,
      "metadata": {
        "id": "chn1GAGUDN0R"
      },
      "outputs": [
        {
          "name": "stdout",
          "output_type": "stream",
          "text": [
            "Gradients:\n",
            "da: tensor([ 72., 450.])\n",
            "db: tensor([6.5610e+04, 1.0000e+01])\n",
            "dd: tensor([-8., 12.])\n",
            "\n",
            "Do theory and Autograd match? => tensor([True, True])\n"
          ]
        }
      ],
      "source": [
        "\n",
        "# Create tensors for variables a, b, and d\n",
        "a = torch.tensor([2.0,5.0], requires_grad =True)\n",
        "b = torch.tensor([9.0,1.0], requires_grad =True)\n",
        "d = torch.tensor([-2,3.0], requires_grad = True)\n",
        "\n",
        "# Compute tensors c and y\n",
        "c = 3*a**3 + b**5\n",
        "y = 2*c + 2*d**2\n",
        "\n",
        "# Compute the gradients of all parameters w.r.t y\n",
        "dy = torch.ones_like(y)\n",
        "y.backward(dy)\n",
        "\n",
        "# Print the gradients\n",
        "print(\"Gradients:\")\n",
        "\n",
        "print(f\"da: {a.grad}\")\n",
        "print(f\"db: {b.grad}\")\n",
        "print(f\"dd: {d.grad}\")\n",
        "\n",
        "# Is theoretical dy/da the same as PyTorch dy/da?\n",
        "# Compute manual gradient dy/da\n",
        "manual_da = manual_da_gradient(a, b, c, d)\n",
        "print(f\"\\nDo theory and Autograd match? => {torch.isclose(manual_da, a.grad)}\")"
      ]
    },
    {
      "cell_type": "markdown",
      "metadata": {
        "id": "0ANoYeCNB3fl"
      },
      "source": [
        "### 1.3. Datasets, Transforms and Dataloaders\n",
        "Download an OpenML dataset. I will focus on the MNIST dataset. PyTorch already offers this library, but I will use a more complex path to practice how to generate our own custom datasets. In addition, I create a transform to prepare the data for model training and a dataloader to sample the dataset.\n",
        "\n",
        "Check PyTorch [Datasets and Dataloaders](https://pytorch.org/tutorials/beginner/basics/data_tutorial.html) and [Transforms](https://pytorch.org/tutorials/beginner/basics/transforms_tutorial.html) turorials for more information on this task.\n"
      ]
    },
    {
      "cell_type": "markdown",
      "metadata": {
        "id": "0k9wVBM4B4pM"
      },
      "source": [
        "### 1.3.1 Transforms"
      ]
    },
    {
      "cell_type": "code",
      "execution_count": 9,
      "metadata": {
        "id": "6foUSXWBKKyd"
      },
      "outputs": [],
      "source": [
        "class Normalize01(object):\n",
        "    \"\"\"Normalize image in the range of [0,1].\n",
        "\n",
        "    Args:\n",
        "        None.\n",
        "    \"\"\"\n",
        "\n",
        "    def __init__(self):\n",
        "      pass\n",
        "\n",
        "    def __call__(self, image):\n",
        "        \"\"\"\n",
        "        Args:\n",
        "            image (numpy.ndarray): Image to be normalized.\n",
        "\n",
        "        Returns:\n",
        "            numpy.ndarray: Normalized image.\n",
        "        \"\"\"\n",
        "\n",
        "        # check for a valid image array -> numpy array\n",
        "        if type(image) != np.ndarray:\n",
        "            print(\"ERROR: Image is not a numpy array\")\n",
        "\n",
        "        # check for 2D image array with 28 by 28 pixels\n",
        "        if np.sqrt(image.shape) != 28:\n",
        "            print(\"ERROR: The image array is not 2D\")\n",
        "            print(image.shape)\n",
        "            print(image)\n",
        "\n",
        "        # check for integer values in the range of 0 and 255\n",
        "        if np.min(image) < 0 or np.max(image) > 255:\n",
        "            print(\"ERROR: The image array has values outside the range of 0 and 255\")\n",
        "\n",
        "        # check that all elements are integer values by ensuring that each element has\n",
        "        # a zero remainder when divided by 1\n",
        "        if np.all(np.mod(image, 1) != 0):\n",
        "            print(\"ERROR: The image array has non-integer values\")\n",
        "\n",
        "        # normalize between zero and 1\n",
        "        norm_img = image / 255.0\n",
        "\n",
        "        # return normalized sample and label\n",
        "        return norm_img\n",
        "\n",
        "class ToTensor(object):\n",
        "    \"\"\" Convert ndarrays in sample to Tensors.\n",
        "    \"\"\"\n",
        "\n",
        "    def __init__(self):\n",
        "      pass\n",
        "\n",
        "    def __call__(self, image):\n",
        "      \"\"\"\n",
        "      Args:\n",
        "          image (numpy.ndarray): Array to be converted to tensor.\n",
        "\n",
        "      Returns:\n",
        "          Tensor: Converted image.\n",
        "      \"\"\"\n",
        "\n",
        "      # convert to tensor, but check if an image in ndarray or if label\n",
        "      if isinstance(image, np.ndarray):\n",
        "            image = torch.from_numpy(image)\n",
        "      else:      \n",
        "            image = torch.tensor(image, dtype = torch.long)\n",
        "\n",
        "      return image\n",
        "\n",
        "\n",
        "# Create composite transform object\n",
        "feature_transform = transforms.Compose([Normalize01(), ToTensor()])\n",
        "\n",
        "target_transform = transforms.Compose([ToTensor()])"
      ]
    },
    {
      "cell_type": "markdown",
      "metadata": {
        "id": "3j3HXol-l5ST"
      },
      "source": [
        "\n",
        "### 1.3.2 Dataset\n",
        "Download a custom dataset, and place it in a PyTorch Dataset object.\n",
        "\n",
        "Steps:\n",
        "1. Download the OpenML mnist_784 dataset ([link](https://www.kaggle.com/datasets/oddrationale/mnist-in-csv?resource=download)) hosted by Kggle in the csv format. Note that you have two files: one for the training set and another for the test set.\n",
        "2. Use Pandas library to load the dataset to memory.\n",
        "3. Display data to learn the indexes for labels and features\n",
        "4. Use Numpy slicing to sperate data and labels.\n",
        "5. Keep data for zero and one digit images.\n"
      ]
    },
    {
      "cell_type": "markdown",
      "metadata": {
        "id": "-BaGqg3BgQ1_"
      },
      "source": [
        "**Initial loading and display of dataset**"
      ]
    },
    {
      "cell_type": "code",
      "execution_count": 12,
      "metadata": {
        "id": "l7fiownefI-L"
      },
      "outputs": [
        {
          "data": {
            "text/html": [
              "<div>\n",
              "<style scoped>\n",
              "    .dataframe tbody tr th:only-of-type {\n",
              "        vertical-align: middle;\n",
              "    }\n",
              "\n",
              "    .dataframe tbody tr th {\n",
              "        vertical-align: top;\n",
              "    }\n",
              "\n",
              "    .dataframe thead th {\n",
              "        text-align: right;\n",
              "    }\n",
              "</style>\n",
              "<table border=\"1\" class=\"dataframe\">\n",
              "  <thead>\n",
              "    <tr style=\"text-align: right;\">\n",
              "      <th></th>\n",
              "      <th>label</th>\n",
              "      <th>1x1</th>\n",
              "      <th>1x2</th>\n",
              "      <th>1x3</th>\n",
              "      <th>1x4</th>\n",
              "      <th>1x5</th>\n",
              "      <th>1x6</th>\n",
              "      <th>1x7</th>\n",
              "      <th>1x8</th>\n",
              "      <th>1x9</th>\n",
              "      <th>...</th>\n",
              "      <th>28x19</th>\n",
              "      <th>28x20</th>\n",
              "      <th>28x21</th>\n",
              "      <th>28x22</th>\n",
              "      <th>28x23</th>\n",
              "      <th>28x24</th>\n",
              "      <th>28x25</th>\n",
              "      <th>28x26</th>\n",
              "      <th>28x27</th>\n",
              "      <th>28x28</th>\n",
              "    </tr>\n",
              "  </thead>\n",
              "  <tbody>\n",
              "    <tr>\n",
              "      <th>0</th>\n",
              "      <td>5</td>\n",
              "      <td>0</td>\n",
              "      <td>0</td>\n",
              "      <td>0</td>\n",
              "      <td>0</td>\n",
              "      <td>0</td>\n",
              "      <td>0</td>\n",
              "      <td>0</td>\n",
              "      <td>0</td>\n",
              "      <td>0</td>\n",
              "      <td>...</td>\n",
              "      <td>0</td>\n",
              "      <td>0</td>\n",
              "      <td>0</td>\n",
              "      <td>0</td>\n",
              "      <td>0</td>\n",
              "      <td>0</td>\n",
              "      <td>0</td>\n",
              "      <td>0</td>\n",
              "      <td>0</td>\n",
              "      <td>0</td>\n",
              "    </tr>\n",
              "    <tr>\n",
              "      <th>1</th>\n",
              "      <td>0</td>\n",
              "      <td>0</td>\n",
              "      <td>0</td>\n",
              "      <td>0</td>\n",
              "      <td>0</td>\n",
              "      <td>0</td>\n",
              "      <td>0</td>\n",
              "      <td>0</td>\n",
              "      <td>0</td>\n",
              "      <td>0</td>\n",
              "      <td>...</td>\n",
              "      <td>0</td>\n",
              "      <td>0</td>\n",
              "      <td>0</td>\n",
              "      <td>0</td>\n",
              "      <td>0</td>\n",
              "      <td>0</td>\n",
              "      <td>0</td>\n",
              "      <td>0</td>\n",
              "      <td>0</td>\n",
              "      <td>0</td>\n",
              "    </tr>\n",
              "    <tr>\n",
              "      <th>2</th>\n",
              "      <td>4</td>\n",
              "      <td>0</td>\n",
              "      <td>0</td>\n",
              "      <td>0</td>\n",
              "      <td>0</td>\n",
              "      <td>0</td>\n",
              "      <td>0</td>\n",
              "      <td>0</td>\n",
              "      <td>0</td>\n",
              "      <td>0</td>\n",
              "      <td>...</td>\n",
              "      <td>0</td>\n",
              "      <td>0</td>\n",
              "      <td>0</td>\n",
              "      <td>0</td>\n",
              "      <td>0</td>\n",
              "      <td>0</td>\n",
              "      <td>0</td>\n",
              "      <td>0</td>\n",
              "      <td>0</td>\n",
              "      <td>0</td>\n",
              "    </tr>\n",
              "    <tr>\n",
              "      <th>3</th>\n",
              "      <td>1</td>\n",
              "      <td>0</td>\n",
              "      <td>0</td>\n",
              "      <td>0</td>\n",
              "      <td>0</td>\n",
              "      <td>0</td>\n",
              "      <td>0</td>\n",
              "      <td>0</td>\n",
              "      <td>0</td>\n",
              "      <td>0</td>\n",
              "      <td>...</td>\n",
              "      <td>0</td>\n",
              "      <td>0</td>\n",
              "      <td>0</td>\n",
              "      <td>0</td>\n",
              "      <td>0</td>\n",
              "      <td>0</td>\n",
              "      <td>0</td>\n",
              "      <td>0</td>\n",
              "      <td>0</td>\n",
              "      <td>0</td>\n",
              "    </tr>\n",
              "    <tr>\n",
              "      <th>4</th>\n",
              "      <td>9</td>\n",
              "      <td>0</td>\n",
              "      <td>0</td>\n",
              "      <td>0</td>\n",
              "      <td>0</td>\n",
              "      <td>0</td>\n",
              "      <td>0</td>\n",
              "      <td>0</td>\n",
              "      <td>0</td>\n",
              "      <td>0</td>\n",
              "      <td>...</td>\n",
              "      <td>0</td>\n",
              "      <td>0</td>\n",
              "      <td>0</td>\n",
              "      <td>0</td>\n",
              "      <td>0</td>\n",
              "      <td>0</td>\n",
              "      <td>0</td>\n",
              "      <td>0</td>\n",
              "      <td>0</td>\n",
              "      <td>0</td>\n",
              "    </tr>\n",
              "    <tr>\n",
              "      <th>...</th>\n",
              "      <td>...</td>\n",
              "      <td>...</td>\n",
              "      <td>...</td>\n",
              "      <td>...</td>\n",
              "      <td>...</td>\n",
              "      <td>...</td>\n",
              "      <td>...</td>\n",
              "      <td>...</td>\n",
              "      <td>...</td>\n",
              "      <td>...</td>\n",
              "      <td>...</td>\n",
              "      <td>...</td>\n",
              "      <td>...</td>\n",
              "      <td>...</td>\n",
              "      <td>...</td>\n",
              "      <td>...</td>\n",
              "      <td>...</td>\n",
              "      <td>...</td>\n",
              "      <td>...</td>\n",
              "      <td>...</td>\n",
              "      <td>...</td>\n",
              "    </tr>\n",
              "    <tr>\n",
              "      <th>59995</th>\n",
              "      <td>8</td>\n",
              "      <td>0</td>\n",
              "      <td>0</td>\n",
              "      <td>0</td>\n",
              "      <td>0</td>\n",
              "      <td>0</td>\n",
              "      <td>0</td>\n",
              "      <td>0</td>\n",
              "      <td>0</td>\n",
              "      <td>0</td>\n",
              "      <td>...</td>\n",
              "      <td>0</td>\n",
              "      <td>0</td>\n",
              "      <td>0</td>\n",
              "      <td>0</td>\n",
              "      <td>0</td>\n",
              "      <td>0</td>\n",
              "      <td>0</td>\n",
              "      <td>0</td>\n",
              "      <td>0</td>\n",
              "      <td>0</td>\n",
              "    </tr>\n",
              "    <tr>\n",
              "      <th>59996</th>\n",
              "      <td>3</td>\n",
              "      <td>0</td>\n",
              "      <td>0</td>\n",
              "      <td>0</td>\n",
              "      <td>0</td>\n",
              "      <td>0</td>\n",
              "      <td>0</td>\n",
              "      <td>0</td>\n",
              "      <td>0</td>\n",
              "      <td>0</td>\n",
              "      <td>...</td>\n",
              "      <td>0</td>\n",
              "      <td>0</td>\n",
              "      <td>0</td>\n",
              "      <td>0</td>\n",
              "      <td>0</td>\n",
              "      <td>0</td>\n",
              "      <td>0</td>\n",
              "      <td>0</td>\n",
              "      <td>0</td>\n",
              "      <td>0</td>\n",
              "    </tr>\n",
              "    <tr>\n",
              "      <th>59997</th>\n",
              "      <td>5</td>\n",
              "      <td>0</td>\n",
              "      <td>0</td>\n",
              "      <td>0</td>\n",
              "      <td>0</td>\n",
              "      <td>0</td>\n",
              "      <td>0</td>\n",
              "      <td>0</td>\n",
              "      <td>0</td>\n",
              "      <td>0</td>\n",
              "      <td>...</td>\n",
              "      <td>0</td>\n",
              "      <td>0</td>\n",
              "      <td>0</td>\n",
              "      <td>0</td>\n",
              "      <td>0</td>\n",
              "      <td>0</td>\n",
              "      <td>0</td>\n",
              "      <td>0</td>\n",
              "      <td>0</td>\n",
              "      <td>0</td>\n",
              "    </tr>\n",
              "    <tr>\n",
              "      <th>59998</th>\n",
              "      <td>6</td>\n",
              "      <td>0</td>\n",
              "      <td>0</td>\n",
              "      <td>0</td>\n",
              "      <td>0</td>\n",
              "      <td>0</td>\n",
              "      <td>0</td>\n",
              "      <td>0</td>\n",
              "      <td>0</td>\n",
              "      <td>0</td>\n",
              "      <td>...</td>\n",
              "      <td>0</td>\n",
              "      <td>0</td>\n",
              "      <td>0</td>\n",
              "      <td>0</td>\n",
              "      <td>0</td>\n",
              "      <td>0</td>\n",
              "      <td>0</td>\n",
              "      <td>0</td>\n",
              "      <td>0</td>\n",
              "      <td>0</td>\n",
              "    </tr>\n",
              "    <tr>\n",
              "      <th>59999</th>\n",
              "      <td>8</td>\n",
              "      <td>0</td>\n",
              "      <td>0</td>\n",
              "      <td>0</td>\n",
              "      <td>0</td>\n",
              "      <td>0</td>\n",
              "      <td>0</td>\n",
              "      <td>0</td>\n",
              "      <td>0</td>\n",
              "      <td>0</td>\n",
              "      <td>...</td>\n",
              "      <td>0</td>\n",
              "      <td>0</td>\n",
              "      <td>0</td>\n",
              "      <td>0</td>\n",
              "      <td>0</td>\n",
              "      <td>0</td>\n",
              "      <td>0</td>\n",
              "      <td>0</td>\n",
              "      <td>0</td>\n",
              "      <td>0</td>\n",
              "    </tr>\n",
              "  </tbody>\n",
              "</table>\n",
              "<p>60000 rows × 785 columns</p>\n",
              "</div>"
            ],
            "text/plain": [
              "       label  1x1  1x2  1x3  1x4  1x5  1x6  1x7  1x8  1x9  ...  28x19  28x20  \\\n",
              "0          5    0    0    0    0    0    0    0    0    0  ...      0      0   \n",
              "1          0    0    0    0    0    0    0    0    0    0  ...      0      0   \n",
              "2          4    0    0    0    0    0    0    0    0    0  ...      0      0   \n",
              "3          1    0    0    0    0    0    0    0    0    0  ...      0      0   \n",
              "4          9    0    0    0    0    0    0    0    0    0  ...      0      0   \n",
              "...      ...  ...  ...  ...  ...  ...  ...  ...  ...  ...  ...    ...    ...   \n",
              "59995      8    0    0    0    0    0    0    0    0    0  ...      0      0   \n",
              "59996      3    0    0    0    0    0    0    0    0    0  ...      0      0   \n",
              "59997      5    0    0    0    0    0    0    0    0    0  ...      0      0   \n",
              "59998      6    0    0    0    0    0    0    0    0    0  ...      0      0   \n",
              "59999      8    0    0    0    0    0    0    0    0    0  ...      0      0   \n",
              "\n",
              "       28x21  28x22  28x23  28x24  28x25  28x26  28x27  28x28  \n",
              "0          0      0      0      0      0      0      0      0  \n",
              "1          0      0      0      0      0      0      0      0  \n",
              "2          0      0      0      0      0      0      0      0  \n",
              "3          0      0      0      0      0      0      0      0  \n",
              "4          0      0      0      0      0      0      0      0  \n",
              "...      ...    ...    ...    ...    ...    ...    ...    ...  \n",
              "59995      0      0      0      0      0      0      0      0  \n",
              "59996      0      0      0      0      0      0      0      0  \n",
              "59997      0      0      0      0      0      0      0      0  \n",
              "59998      0      0      0      0      0      0      0      0  \n",
              "59999      0      0      0      0      0      0      0      0  \n",
              "\n",
              "[60000 rows x 785 columns]"
            ]
          },
          "metadata": {},
          "output_type": "display_data"
        }
      ],
      "source": [
        "# Download the file and set the file name and path\n",
        "train_data_file_path = 'mnist_train.csv'\n",
        "test_data_file_path = 'test.csv'\n",
        "\n",
        "# Load dataset\n",
        "data = pd.read_csv(train_data_file_path)\n",
        "\n",
        "# Display dataset\n",
        "display(data)"
      ]
    },
    {
      "cell_type": "markdown",
      "metadata": {
        "id": "sLWS8HrZgue5"
      },
      "source": [
        "**Build data loading function**"
      ]
    },
    {
      "cell_type": "code",
      "execution_count": 14,
      "metadata": {
        "id": "SUZKaF0-PDrU"
      },
      "outputs": [],
      "source": [
        "def load_mnist_from_kaggle(filepath):\n",
        "    \"\"\"\n",
        "    Load the MNIST dataset from a local Kaggle CSV file.\n",
        "\n",
        "    Args:\n",
        "        filepath (str): Path to the CSV file.\n",
        "\n",
        "    Returns:\n",
        "        tuple: (features, labels), where features is the feature matrix (images) and labels is the\n",
        "        target vector.\n",
        "    \"\"\"\n",
        "\n",
        "    # Load CSV file\n",
        "    data = pd.read_csv(train_data_file_path)\n",
        "\n",
        "    # Separate features and labels\n",
        "    features = data.iloc[:, 1:].values\n",
        "    labels = data.iloc[:, 0].values\n",
        "\n",
        "    # Keep zeros and ones labels\n",
        "    mask = np.isin(labels, [0, 1])\n",
        "    features = features[mask]\n",
        "    labels = labels[mask]\n",
        "\n",
        "    # Ensure labels are integers (ARFF may load them as bytes)\n",
        "    labels = labels.astype(int)\n",
        "\n",
        "    return features, labels"
      ]
    },
    {
      "cell_type": "markdown",
      "metadata": {
        "id": "RSXWEyjtmf5R"
      },
      "source": [
        "Generate a Dataset object for the MNIST dataset."
      ]
    },
    {
      "cell_type": "code",
      "execution_count": 16,
      "metadata": {
        "id": "QrFWnmL7ewup"
      },
      "outputs": [
        {
          "name": "stdout",
          "output_type": "stream",
          "text": [
            "Number of samples in MNIST Dataset: 12665.\n",
            "Each sample has 784 features.\n",
            "Number of samples in MNIST Dataset: 12665.\n",
            "Each sample has 784 features.\n"
          ]
        },
        {
          "data": {
            "image/png": "[encoded data removed]",
            "text/plain": [
              "<Figure size 640x480 with 1 Axes>"
            ]
          },
          "metadata": {},
          "output_type": "display_data"
        }
      ],
      "source": [
        "class MNISTDataset(Dataset):\n",
        "    \n",
        "    def __init__(self, data_file_path, transform=None, target_transform=None):\n",
        "      \"\"\"\n",
        "        Generate PyTorch Dataset object from MNIST dataset in ARFF format.\n",
        "\n",
        "        Args:\n",
        "          data_file_path (str): Path to the ARFF file.\n",
        "          transform (OBJ): transform operations on features\n",
        "          target_transform (OBJ): transform operations on labels\n",
        "      \"\"\"\n",
        "      # Get features and labels from dataset\n",
        "      self.features, self.labels = load_mnist_from_kaggle(data_file_path)\n",
        "\n",
        "      # Store transforms\n",
        "      self.transform = feature_transform\n",
        "      self.target_transform = target_transform\n",
        "\n",
        "      # print dataset number of samples and features\n",
        "      print(f\"Number of samples in MNIST Dataset: {len(self.labels)}.\")\n",
        "      print (f\"Each sample has {self.features.shape[1]} features.\")\n",
        "\n",
        "\n",
        "    def __len__(self):\n",
        "      \"\"\"\n",
        "        Returns the size of the dataset.\n",
        "      \"\"\"\n",
        "      # number of samples\n",
        "      no_samples = len(self.labels)\n",
        "\n",
        "      return no_samples\n",
        "\n",
        "    def __getitem__(self, idx):\n",
        "      \"\"\"\n",
        "        Select data sample at index idx and apply corresponding transformations.\n",
        "\n",
        "        Args:\n",
        "          idx (int): Index of image.\n",
        "\n",
        "        Returns:\n",
        "          dict: {'image': image, 'label': label}\n",
        "      \"\"\"\n",
        "      # get sample\n",
        "      image = self.features[idx,:]\n",
        "      label = self.labels[idx]\n",
        "\n",
        "      # Apply feature transformations\n",
        "      image = self.transform(image)\n",
        "\n",
        "      # Apply label transformations\n",
        "      label = self.target_transform(label)\n",
        "\n",
        "      return image, label\n",
        "\n",
        "    def show_image_sample(self, idx):\n",
        "      \"\"\"\n",
        "        Show image sample at index idx.\n",
        "\n",
        "        Args:\n",
        "          idx (int): Index of image.\n",
        "      \"\"\"\n",
        "      # get sample at position idx and reshape to MNIST image dimensions\n",
        "      image = self.features[idx,:].reshape(28, 28)\n",
        "\n",
        "      # use matplotlib library to display the image\n",
        "      plt.imshow(image)\n",
        "      plt.title(f\"Class {self.labels[idx]} Image at position {idx}\")\n",
        "      plt.show()\n",
        "\n",
        "# Generate MNIST Train Dataset object\n",
        "train_dataset = MNISTDataset(train_data_file_path, feature_transform, target_transform)\n",
        "\n",
        "# Generate MNIST Test Dataset object\n",
        "test_dataset = MNISTDataset(test_data_file_path, feature_transform, target_transform)\n",
        "\n",
        "# Show image of train sample 500\n",
        "train_dataset.show_image_sample(500)\n"
      ]
    },
    {
      "cell_type": "markdown",
      "metadata": {
        "id": "qJeuWHOLl6dE"
      },
      "source": [
        "### 1.3.2 Dataloaders"
      ]
    },
    {
      "cell_type": "code",
      "execution_count": 17,
      "metadata": {
        "id": "pdcqFW-dl7e9"
      },
      "outputs": [
        {
          "data": {
            "image/png": "[encoded data removed]",
            "text/plain": [
              "<Figure size 2000x2000 with 5 Axes>"
            ]
          },
          "metadata": {},
          "output_type": "display_data"
        }
      ],
      "source": [
        "\n",
        "def display_images(image_batch, labels):\n",
        "    \"\"\"\n",
        "    Displays images from a matrix of flattened 28x28 images.\n",
        "\n",
        "    Args:\n",
        "        image_batch (numpy.ndarray): A (N, M) matrix where each row is a flattened square image.\n",
        "    \"\"\"\n",
        "\n",
        "    # Compute number of samples\n",
        "    n = image_batch.shape[0]\n",
        "\n",
        "    # Compute size of square images\n",
        "    m = image_batch.shape[1]\n",
        "    image_size = int( np.sqrt(m))\n",
        "\n",
        "    if n==1:\n",
        "      image = image_batch[0,:].reshape(image_size, image_size)  # Reshape to image_sizeximage_size\n",
        "      plt.imshow(image, cmap='gray')      # Display image in grayscale\n",
        "      plt.axis('off')                     # Turn off axis labels\n",
        "      plt.title(f\"Label {labels}\")       # Optional title for each image\n",
        "      plt.show()\n",
        "    else:\n",
        "      # Reshape each row back to image_size*image_size and plot\n",
        "      fig, axes = plt.subplots(1, n, figsize = (20, 20)) # Create a row of n subplots\n",
        "      for i, ax in enumerate(axes):\n",
        "          image = image_batch[i,:].reshape(image_size, image_size) # Reshape to image_sizeximage_size\n",
        "          ax.imshow(image, cmap='gray')      # Display image in grayscale\n",
        "          ax.axis('off')                     # Turn off axis labels\n",
        "          ax.set_title(f\"Label {labels[i]}\")       # Optional title for each image\n",
        "\n",
        "      plt.tight_layout()\n",
        "      plt.show()\n",
        "\n",
        "# Test a DataLoader with training dataset and batch size of 5\n",
        "batch_size = 5\n",
        "dataloader = DataLoader(train_dataset, batch_size = batch_size)\n",
        "\n",
        "# Get iterable object\n",
        "dataiter = iter(dataloader)\n",
        "\n",
        "# Sample batch\n",
        "images, labels = next(dataiter)\n",
        "\n",
        "# show images\n",
        "display_images(images, labels)\n",
        "\n",
        "# Create Train and Test dataloaders of batch size of the size of the dataset\n",
        "train_dataloader = DataLoader(train_dataset, batch_size = len(train_dataset) )\n",
        "test_dataloader = DataLoader(test_dataset, batch_size = len(test_dataset) )\n"
      ]
    },
    {
      "cell_type": "markdown",
      "metadata": {
        "id": "1gi7yzRwLfsw"
      },
      "source": [
        "## 2. Building a Perceptron Neuron from Scratch\n",
        "\n",
        "**What is a Neuron?**\n",
        "\n",
        "A neuron is the fundamental unit of neural networks. It takes multiple inputs, applies weights to them, sums them up, and uses an activation function to produce an output. This process is mathematically represented as:\n",
        "\n",
        "$$\n",
        "a = \\sigma(\\sum_{i=1}^{n} w_i x_i + b)\n",
        "$$\n",
        "\n",
        "- $(a)$: output of model in logits\n",
        "- $(x_i)$: Inputs\n",
        "- $(w_i)$: Weights\n",
        "- $(b)$: Bias term\n",
        "- $(\\sigma)$: Activation function (e.g., sigmoid)\n",
        "\n",
        "Below is a visual representation of a neuron:\n",
        "\n",
        "![Artificial Neuron](https://rasbt.github.io/mlxtend/user_guide/classifier/Adaline_files/adaline_schematic.png)\n",
        "\n",
        "I will build these components in the next tasks.\n"
      ]
    },
    {
      "cell_type": "markdown",
      "metadata": {
        "id": "3CIjOIustDnI"
      },
      "source": [
        "### 2.1 - Activation Function Block: Sigmoid function\n",
        "\n",
        "Build a function that returns the sigmoid of a numpy real vector or matrix $x$.\n",
        "\n",
        "**Reminder**:\n",
        "$sigmoid(x) = \\frac{1}{1+e^{-x}}$\n",
        "\n",
        "This function is also known as the logistic function. It is a non-linear function used not only in Machine Learning (Logistic Regression), but also in Deep Learning."
      ]
    },
    {
      "cell_type": "code",
      "execution_count": 18,
      "metadata": {
        "id": "PrTWwH-StDKu"
      },
      "outputs": [
        {
          "name": "stdout",
          "output_type": "stream",
          "text": [
            "sigmoid([1]) = tensor([0.7311])\n",
            "Test passed\n"
          ]
        }
      ],
      "source": [
        "def sigmoid(x):\n",
        "    \"\"\"\n",
        "    Compute sigmoid of x.\n",
        "\n",
        "    Arguments:\n",
        "    x -- A scalar or numpy vector or matrix\n",
        "\n",
        "    Return:\n",
        "    s -- sigmoid(x)\n",
        "    \"\"\"\n",
        "\n",
        "    s = 1 / (1 + torch.exp( -x ))\n",
        "\n",
        "    return s\n",
        "\n",
        "# Test\n",
        "a = torch.tensor([1])\n",
        "\n",
        "print(f\"sigmoid([1]) = {sigmoid(a)}\")\n",
        "\n",
        "if(torch.isclose(sigmoid(a), torch.tensor([0.7310585786300049]))):\n",
        "    print(\"Test passed\")"
      ]
    },
    {
      "cell_type": "markdown",
      "metadata": {
        "id": "L6hVX5KHtrLw"
      },
      "source": [
        "### 2.2- Build Sigmoid Gradient\n",
        "Computing gradients is an important step in backpropagation. Compute the gradient (i.e., derivative) of the sigmoid function.\n",
        "\n",
        "**Recall**\n",
        "$$sigmoid\\_derivative(x) = \\sigma'(x) = \\sigma(x) (1 - \\sigma(x))\\tag{2}$$"
      ]
    },
    {
      "cell_type": "code",
      "execution_count": 20,
      "metadata": {
        "id": "zVBqJ2nFtr2f"
      },
      "outputs": [
        {
          "name": "stdout",
          "output_type": "stream",
          "text": [
            "sigmoid_gradient(a) = tensor([0.1966, 0.1050, 0.0452])\n",
            "Test passed: tensor([True, True, True])\n"
          ]
        }
      ],
      "source": [
        "def sigmoid_gradient(x):\n",
        "    \"\"\"\n",
        "    Compute the gradient (also called the slope or derivative) of the sigmoid function with respect to its input x.\n",
        "\n",
        "    Arguments:\n",
        "    x -- A scalar or numpy array\n",
        "\n",
        "    Return:\n",
        "    ds -- Your computed gradient.\n",
        "    \"\"\"\n",
        "\n",
        "    # Compute Sigmoid\n",
        "    sig = sigmoid(x)\n",
        "    ds = sig * (1 - sig)\n",
        "\n",
        "    return ds\n",
        "\n",
        "# Test\n",
        "a = torch.tensor([1, 2, 3])\n",
        "print(f\"sigmoid_gradient(a) = {sigmoid_gradient(a)}\")\n",
        "\n",
        "print(f\"Test passed: {torch.isclose(sigmoid_gradient(a), torch.tensor([0.19661193, 0.10499359, 0.04517666]))}\")"
      ]
    },
    {
      "cell_type": "markdown",
      "metadata": {
        "id": "xnOHygCgusnT"
      },
      "source": [
        "### 2.3 Error Block: Implement Cross Entropy Loss\n",
        "\n",
        "The cost/loss function is used to evaluate the performance of the model. The bigger loss is, the more different predictions ($ \\hat{y} $) are from the true values ($y$). In deep learning, you use optimization algorithms like Gradient Descent to train the model and to minimize the cost.\n",
        "\n",
        "$LogLoss(y, a) = - (y \\cdot log(a) + (1-y) \\cdot log(1-a))\n",
        "\n",
        "Implement a vectorized version of the Cross Entropy or Log loss. The function will receive the samples targets and model predictions.\n",
        "\n"
      ]
    },
    {
      "cell_type": "code",
      "execution_count": 23,
      "metadata": {
        "id": "aKhWk94zu5YT"
      },
      "outputs": [
        {
          "name": "stdout",
          "output_type": "stream",
          "text": [
            "Test passed: Computed 2.5339720249176025, Answer 2.5339720249176025\n"
          ]
        }
      ],
      "source": [
        "\n",
        "\n",
        "def CrossEntropy(A, Y):\n",
        "    \"\"\"\n",
        "    Computes the LogLoss/Cross-Entropy cost.\n",
        "\n",
        "    Arguments:\n",
        "    A -- The sigmoid output of the output layer with shape (N, 1)\n",
        "    Y -- \"true\" labels vector of shape (N, 1)\n",
        "\n",
        "    Returns:\n",
        "    cost -- cross-entropy cost as discussed in class\n",
        "    \"\"\"\n",
        "\n",
        "    # number of examples\n",
        "    m = Y.shape[0]\n",
        "\n",
        "    # Manage NaNs in the logs - clamp in values for the logs\n",
        "    A = torch.clamp(A, 1e-12, 1-1e-12)\n",
        "\n",
        "    # compute LogLoss cost\n",
        "    cost = -1 / m * torch.sum( Y * torch.log(A) + (1 - Y) * torch.log( 1 - A ))\n",
        "\n",
        "    # check that we don't have nans otherwise stop\n",
        "    assert not(torch.isnan(cost).any())\n",
        "\n",
        "    cost = float(torch.squeeze(cost))  # makes sure cost is the dimension we expect.\n",
        "                                    # E.g., turns [[17]] into 17\n",
        "\n",
        "    return cost\n",
        "\n",
        "\n",
        "# Test\n",
        "A = torch.tensor( [[0.999, 0.5, 0.001]]).T\n",
        "Y = torch.tensor( [[0.0, 0.0, 0.0]]).T\n",
        "print(f\"Test passed: Computed {CrossEntropy(A, Y)}, Answer {2.5339720249176025}\")"
      ]
    },
    {
      "cell_type": "markdown",
      "metadata": {
        "id": "j7DvZNVHCdl7"
      },
      "source": [
        "### 2.4 Model Parameters: Initialize parameters function\n",
        "Implement parameter initialization "
      ]
    },
    {
      "cell_type": "code",
      "execution_count": 24,
      "metadata": {
        "id": "jVKLLCnOzsRg"
      },
      "outputs": [
        {
          "name": "stdout",
          "output_type": "stream",
          "text": [
            "w = tensor([[0.],\n",
            "        [0.]])\n",
            "b = 0.0\n",
            "Test passed\n"
          ]
        }
      ],
      "source": [
        "def initialize_params(dim):\n",
        "    \"\"\"\n",
        "    This function creates a vector of zeros of shape (dim, 1) for w and initializes b to 0.\n",
        "\n",
        "    Argument:\n",
        "    dim -- size of the w vector we want (or number of weight parameters in this case)\n",
        "\n",
        "    Returns:\n",
        "    w -- initialized vector of shape (dim, 1)\n",
        "    b -- initialized scalar (corresponds to the bias) of type float\n",
        "    \"\"\"\n",
        "\n",
        "    # initialize\n",
        "    w = torch.zeros( dim, 1 )\n",
        "    b = float(0.0)\n",
        "\n",
        "    return w, b\n",
        "\n",
        "dim = 2\n",
        "w, b = initialize_params(dim)\n",
        "\n",
        "assert type(b) == float\n",
        "print (\"w = \" + str(w))\n",
        "print (\"b = \" + str(b))\n",
        "\n",
        "if((w==torch.tensor([0., 0.])).all()):\n",
        "    print(\"Test passed\")"
      ]
    },
    {
      "cell_type": "markdown",
      "metadata": {
        "id": "tF1Zo8BuCdIY"
      },
      "source": [
        "### 2.5 Forward propagation\n",
        "\n",
        "Build the forward propagation routine for the neuron that will propagate the inputs to the output of the neuron (i.e., produce a prediction).\n",
        "\n",
        "Implement a function `model()` that computes a prediction.\n",
        "\n",
        "**Hints**:\n",
        "\n",
        "Forward Propagation:\n",
        "- Input X, w, and b. The parameters w and b initialized with some arbitrary vector or number (e.g., vector of zeros or a zero).\n",
        "- Compute $A = \\sigma(X \\cdot w + b)$\n",
        "- Use a sigmoid activation function."
      ]
    },
    {
      "cell_type": "code",
      "execution_count": 26,
      "metadata": {
        "id": "FD2SdLHj1NUq"
      },
      "outputs": [],
      "source": [
        "def model(X, W, b):\n",
        "  \"\"\"\n",
        "  Makes a prediction based on inputs and parameters.\n",
        "\n",
        "  Arguments:\n",
        "  X -- input data of size (N, M), where N is the number of samples and M is the number of features.\n",
        "  W -- weights vector of size (M, 1)\n",
        "  b -- bias scalar\n",
        "\n",
        "  Returns:\n",
        "  A -- Output of activation function\n",
        "  \"\"\"\n",
        "\n",
        "  # W was initially float32, convert it to float64 to match X\n",
        "  X = X.to(torch.float32)  \n",
        "  W = W.to(torch.float32)  \n",
        "\n",
        "  # Compute Sigmoid activation\n",
        "  intermediate = torch.matmul(X, W) + b\n",
        "  A = sigmoid(intermediate)\n",
        "\n",
        "  return A"
      ]
    },
    {
      "cell_type": "markdown",
      "metadata": {
        "id": "GDlFvchZ2M4U"
      },
      "source": [
        "### 2.6 Backward propagation\n",
        "\n",
        "Build the routines to compute the cost and gradients to update the parameters.\n",
        "\n",
        "Implement a function `cost_and_backprop()` that computes the cost function and its gradient to the parameters.\n",
        "\n",
        "**Hints**:\n",
        "\n",
        "Cost and backward Propagation:\n",
        "- Calculate the cost function: $J = -\\frac{1}{m}\\sum_{i=1}^{m}(y^{(i)}\\log(a^{(i)})+(1-y^{(i)})\\log(1-a^{(i)}))$\n",
        "\n",
        "Here are the two formulas used:\n",
        "\n",
        "$$ \\frac{\\partial J}{\\partial w} = \\frac{1}{m}X \\cdot (A-Y)\\tag{7}$$\n",
        "$$ \\frac{\\partial J}{\\partial b} = \\frac{1}{m} \\sum_{i=1}^m (a^{(i)}-y^{(i)})\\tag{8}$$"
      ]
    },
    {
      "cell_type": "code",
      "execution_count": 28,
      "metadata": {
        "id": "3Iy15cx_5d0I"
      },
      "outputs": [],
      "source": [
        "def cost_and_backprop(X, Y, A):\n",
        "  \"\"\"\n",
        "  Computes the cost function and its gradient for the model's parameters.\n",
        "\n",
        "  Arguments:\n",
        "  X -- input data of size (N, M), where N is the number of samples and M is the number of features.\n",
        "  Y -- true \"label\" vector of size (N, 1)\n",
        "  A -- Output of activation function (Hint: Model output)\n",
        "\n",
        "  Returns:\n",
        "  cost -- cross-entropy cost\n",
        "  dW -- gradient of the loss with respect to w, thus same shape as w\n",
        "  db -- gradient of the loss with respect to b, thus same shape as b\n",
        "  \"\"\"\n",
        "\n",
        " # Compute cost\n",
        "  cost = CrossEntropy(A, Y)\n",
        "\n",
        "  # Number of samples\n",
        "  m = X.shape[0]\n",
        "\n",
        "  # Compute dZ\n",
        "  dZ = A - Y\n",
        "  \n",
        "  # Ensure both are in float32 form\n",
        "  dZ = dZ.to(torch.float32)  \n",
        "  X = X.to(torch.float32)  \n",
        "  \n",
        "  # Compute dW\n",
        "  dW = 1/ m * torch.matmul(X.T, dZ)\n",
        "\n",
        "  # Compute db\n",
        "  db = 1 / m * torch.sum(dZ)\n",
        "\n",
        "  return cost, dW, db"
      ]
    },
    {
      "cell_type": "code",
      "execution_count": 30,
      "metadata": {
        "id": "O91_Y8wA6WCB"
      },
      "outputs": [
        {
          "name": "stdout",
          "output_type": "stream",
          "text": [
            "torch.Size([3, 2])\n",
            "torch.Size([3, 1])\n",
            "tensor([[0.9998],\n",
            "        [0.6225],\n",
            "        [0.0027]])\n",
            "dw = tensor([[ 0.2507],\n",
            "        [-0.0660]])\n",
            "db = tensor(-0.1250)\n",
            "cost = 0.15900537371635437\n",
            "cost test passed: True\n",
            "dW test passed: tensor([[True],\n",
            "        [True]])\n",
            "db test passed: True\n"
          ]
        }
      ],
      "source": [
        "# Propagate, Cost, and Backprop tests\n",
        "\n",
        "w = torch.tensor([[1.], [2]])\n",
        "b = 1.5\n",
        "X = torch.tensor([[1., 3.],[-2.,0.5],[-1.,-3.2]])\n",
        "Y = torch.tensor([[1], [1], [0]], dtype=torch.float32)\n",
        "\n",
        "print(X.shape)\n",
        "print(Y.shape)\n",
        "\n",
        "# Predict\n",
        "A = model(X, w, b)\n",
        "print(A)\n",
        "\n",
        "# Cost and backprop\n",
        "cost, dW, db = cost_and_backprop(X, Y, A)\n",
        "\n",
        "assert dW.shape == (2, 1)\n",
        "\n",
        "print (\"dw = \" + str(dW))\n",
        "print (\"db = \" + str(db))\n",
        "print (\"cost = \" + str(cost))\n",
        "\n",
        "print(f\"cost test passed: {np.isclose(cost,0.15901, atol=0.00001)}\")\n",
        "print(f\"dW test passed: {torch.isclose(dW, torch.tensor([[0.25072],[-0.06604]]), atol=0.00001)}\")\n",
        "print(f\"db test passed: {torch.isclose(db, torch.tensor(-0.125), atol=0.00001)}\")"
      ]
    },
    {
      "cell_type": "markdown",
      "metadata": {
        "id": "rvAb1o8oElIu"
      },
      "source": [
        "### 2.7 - Optimization\n",
        "- Update the parameters using gradient descent.\n",
        "\n",
        "The goal is to learn $w$ and $b$ by minimizing the cost function $J$. For a parameter $\\theta$, the update rule is $ \\theta = \\theta - \\alpha \\text{ } d\\theta$, where $\\alpha$ is the learning rate."
      ]
    },
    {
      "cell_type": "code",
      "execution_count": 31,
      "metadata": {
        "id": "Q6S_7pl7Elkn"
      },
      "outputs": [],
      "source": [
        "def optimize(w, b, X, Y, num_iterations=100, learning_rate=0.009, print_cost=False):\n",
        "    \"\"\"\n",
        "    This function optimizes w and b by running a gradient descent algorithm\n",
        "\n",
        "    Arguments:\n",
        "    w -- weights, a numpy array of size (num_px * num_px * 1, 1)\n",
        "    b -- bias, a scalar\n",
        "    X -- data of shape (num_px * num_px * 1, number of examples)\n",
        "    Y -- true \"label\" vector (containing 0 if non-cat, 1 if cat), of shape (1, number of examples)\n",
        "    num_iterations -- number of iterations of the optimization loop\n",
        "    learning_rate -- learning rate of the gradient descent update rule\n",
        "    print_cost -- True to print the loss every 100 steps\n",
        "\n",
        "    Returns:\n",
        "    w and b -- weights w and bias b\n",
        "    dw and db -- gradients of the weights and bias with respect to the cost function\n",
        "    costs -- list of all the costs computed during the optimization, this will be used to plot the learning curve.\n",
        "    \"\"\"\n",
        "\n",
        "    w = copy.deepcopy(w)\n",
        "    b = copy.deepcopy(b)\n",
        "\n",
        "    costs = []\n",
        "\n",
        "    for i in range(num_iterations):\n",
        "\n",
        "        # Forward propagatation\n",
        "        A = model(X, w, b)\n",
        "\n",
        "        # Cost and gradient calculation\n",
        "        cost, dw, db = cost_and_backprop(X, Y, A)\n",
        "\n",
        "        # update rule\n",
        "        w = w - (learning_rate *dw)\n",
        "        b = b - (learning_rate * db)\n",
        "\n",
        "        # Record the costs\n",
        "        if i % 100 == 0:\n",
        "            costs.append(cost)\n",
        "\n",
        "            # Print the cost every 100 training iterations\n",
        "            if print_cost:\n",
        "                print (\"Cost after iteration %i: %f\" %(i, cost))\n",
        "\n",
        "    return costs, w, b, dw, db"
      ]
    },
    {
      "cell_type": "code",
      "execution_count": 32,
      "metadata": {
        "id": "WXNjmzELGPA6"
      },
      "outputs": [
        {
          "name": "stdout",
          "output_type": "stream",
          "text": [
            "w = tensor([[0.8096],\n",
            "        [2.0508]])\n",
            "b = tensor(1.5949)\n",
            "dw = tensor([[ 0.1786],\n",
            "        [-0.0484]])\n",
            "db = tensor(-0.0889)\n",
            "Costs = [0.15900537371635437]\n",
            "Test passed.\n"
          ]
        }
      ],
      "source": [
        "w =  torch.tensor([[1.], [2]])\n",
        "b = 1.5\n",
        "X = torch.tensor([[1., -2., -1.], [3., 0.5, -3.2]]).T\n",
        "Y = torch.tensor([[1., 1., 0.]]).T\n",
        "costs, w, b, dw, db = optimize(w, b, X, Y, num_iterations=100, learning_rate=0.009, print_cost=False)\n",
        "\n",
        "print (\"w = \" + str(w))\n",
        "print (\"b = \" + str(b))\n",
        "print (\"dw = \" + str(dw))\n",
        "print (\"db = \" + str(db))\n",
        "print(\"Costs = \" + str(costs))\n",
        "\n",
        "#checking first element of each variable only\n",
        "if ((np.round(w[0].item(),5)==0.80956) and\n",
        "    (np.round(b.item(),5)==1.59487) and\n",
        "    (np.round(dw[0].item(),6)==0.178605) and\n",
        "    (np.round(db.item(),5)==-0.08888) and\n",
        "    (np.round(costs[0],4)==0.1590)):\n",
        "    print(\"Test passed.\")\n"
      ]
    },
    {
      "cell_type": "markdown",
      "metadata": {
        "id": "TCkKkUHPHe9Z"
      },
      "source": [
        "### 2.8 Predict\n",
        "The **optimize** function will output the learned w and b. Use w and b to predict the labels for a dataset X.\n",
        "\n",
        "There are two steps to computing predictions:\n",
        "\n",
        "1. Calculate $A = \\sigma(w^T X + b)$\n",
        "\n",
        "2. Compute $\\hat{Y}$ by onverting the entries of $A$ into 0 (if activation < 0.5) or 1 (if activation >= 0.5), stores the predictions in a vector `Y_prediction`."
      ]
    },
    {
      "cell_type": "code",
      "execution_count": 33,
      "metadata": {
        "id": "GF1xCiVMIBLv"
      },
      "outputs": [
        {
          "name": "stdout",
          "output_type": "stream",
          "text": [
            "predictions = tensor([[ True],\n",
            "        [ True],\n",
            "        [False]])\n",
            "Test passed.\n"
          ]
        }
      ],
      "source": [
        "def predict(w, b, X):\n",
        "    '''\n",
        "    Predict whether the label is 0 or 1 using learned logistic regression parameters (w, b)\n",
        "\n",
        "    Arguments:\n",
        "    w -- weights, a numpy array of size (num_px * num_px * 1, 1)\n",
        "    b -- bias, a scalar\n",
        "    X -- data of size (number of examples, num_px * num_px * 1)\n",
        "\n",
        "    Returns:\n",
        "    Y_prediction -- a numpy array (vector) containing all predictions (0/1) for the examples in X\n",
        "    '''\n",
        "\n",
        "    # Compute vector \"A\" predicting the probabilities of a cat being present in the picture\n",
        "    A = model(X, w, b)\n",
        "    \n",
        "    # Activation \n",
        "    Y_prediction = A >= 0.5\n",
        "\n",
        "    return Y_prediction\n",
        "\n",
        "\n",
        "# Tests\n",
        "w = torch.tensor([[0.1124579], [0.23106775]])\n",
        "b = -0.3\n",
        "X = torch.tensor([[1., -1.1, -3.2],[1.2, 2., 0.1]]).T\n",
        "YHAT = predict(w, b, X)\n",
        "print (\"predictions = \" + str(YHAT))\n",
        "if((YHAT==torch.tensor([[True,True,False]]).T).all()):\n",
        "   print(\"Test passed.\")"
      ]
    },
    {
      "cell_type": "markdown",
      "metadata": {
        "id": "i2tSbJhBKPZI"
      },
      "source": [
        "### 2.9 Integrate functions to generate a machine learning model\n",
        "\n",
        "The overall model is structured by putting together all the building blocks (functions implemented in the previous parts) together, in the right order.\n",
        "\n",
        "Create the model function using the following notation:\n",
        "- Y_prediction_test for your predictions on the test set\n",
        "- Y_prediction_train for your predictions on the train set\n",
        "- parameters, grads, costs for the outputs of optimize()"
      ]
    },
    {
      "cell_type": "code",
      "execution_count": 34,
      "metadata": {
        "id": "b0p5Ol0oKOao"
      },
      "outputs": [],
      "source": [
        "#\n",
        "\n",
        "def train_model(X_train, Y_train, X_test, Y_test, num_iterations=2000, learning_rate=0.5, print_cost=False):\n",
        "    \"\"\"\n",
        "    Builds the logistic regression model by calling the functions you've implemented previously\n",
        "\n",
        "    Arguments:\n",
        "    X_train -- training set represented by a numpy array of shape (n, num_px * num_px * 1)\n",
        "    Y_train -- training labels represented by a numpy array (vector) of shape (n, 1)\n",
        "    X_test -- test set represented by a numpy array of shape (n_test num_px * num_px * 1)\n",
        "    Y_test -- test labels represented by a numpy array (vector) of shape (n_test, 1)\n",
        "    num_iterations -- hyperparameter representing the number of iterations to optimize the parameters\n",
        "    learning_rate -- hyperparameter representing the learning rate used in the update rule of optimize()\n",
        "    print_cost -- Set to True to print the cost every 100 iterations\n",
        "\n",
        "    Returns:\n",
        "    d -- dictionary containing information about the model.\n",
        "    \"\"\"\n",
        "\n",
        "    # initialize - Had to get 2nd dimension in order ot fix the error\n",
        "    w, b = initialize_params(X_train.shape[1])\n",
        "\n",
        "    # train\n",
        "    costs, w, b, dw, db = optimize(w, b, X_train, Y_train, num_iterations, learning_rate,print_cost)\n",
        "\n",
        "    # Predict\n",
        "    Y_prediction_train = predict(w, b, X_train)\n",
        "    Y_prediction_test = predict(w, b, X_test)\n",
        "\n",
        "    # Print train/test Errors\n",
        "    train_accuracy = torch.round(100 - torch.mean(torch.abs(Y_prediction_train.type(torch.FloatTensor) - Y_train)) * 100,decimals=3)\n",
        "    test_accuracy = torch.round(100 - torch.mean(torch.abs(Y_prediction_test.type(torch.FloatTensor) - Y_test)) * 100,decimals=3)\n",
        "    if print_cost:\n",
        "        print(\"\\n\\n########################################\")\n",
        "        print(\"train accuracy: {} %\".format(train_accuracy))\n",
        "        print(\"test accuracy: {} %\".format(test_accuracy))\n",
        "        print(\"########################################\\n\")\n",
        "\n",
        "\n",
        "    d = {\"costs\": costs,\n",
        "         \"Y_prediction_test\": Y_prediction_test,\n",
        "         \"Y_prediction_train\" : Y_prediction_train,\n",
        "         \"w\" : w,\n",
        "         \"b\" : b,\n",
        "         \"learning_rate\" : learning_rate,\n",
        "         \"num_iterations\": num_iterations,\n",
        "         \"train_accuracy\": train_accuracy,\n",
        "         \"test_accuracy\": test_accuracy}\n",
        "\n",
        "    return d"
      ]
    },
    {
      "cell_type": "code",
      "execution_count": 37,
      "metadata": {
        "id": "97_rOYwbL9vd"
      },
      "outputs": [
        {
          "name": "stdout",
          "output_type": "stream",
          "text": [
            "Cost after iteration 0: 0.693147\n",
            "Cost after iteration 100: 0.119966\n",
            "Cost after iteration 200: 0.070543\n",
            "Cost after iteration 300: 0.052032\n",
            "Cost after iteration 400: 0.042170\n",
            "Cost after iteration 500: 0.035974\n",
            "Cost after iteration 600: 0.031688\n",
            "Cost after iteration 700: 0.028528\n",
            "Cost after iteration 800: 0.026091\n",
            "Cost after iteration 900: 0.024149\n",
            "\n",
            "\n",
            "########################################\n",
            "train accuracy: 99.73899841308594 %\n",
            "test accuracy: 99.73899841308594 %\n",
            "########################################\n",
            "\n"
          ]
        }
      ],
      "source": [
        "# Dump full batch\n",
        "dataiter = iter(train_dataloader)\n",
        "# Sample batch\n",
        "train_X, train_Y = next(dataiter)\n",
        "dataiter = iter(test_dataloader)\n",
        "# Sample batch\n",
        "test_X, test_Y = next(dataiter)\n",
        "\n",
        "train_Y = train_Y.type(torch.FloatTensor).reshape(-1, 1)\n",
        "test_Y = test_Y.type(torch.FloatTensor).reshape(-1, 1)\n",
        "\n",
        "\n",
        "# This function will train neuron from scratch\n",
        "my_neuron = train_model(train_X, train_Y, test_X, test_Y,\n",
        "                                  num_iterations=1000, learning_rate=0.01, print_cost=True)"
      ]
    },
    {
      "cell_type": "markdown",
      "metadata": {
        "id": "y7MRlrleUMPO"
      },
      "source": [
        "#### Plot of training Cost"
      ]
    },
    {
      "cell_type": "code",
      "execution_count": 38,
      "metadata": {
        "id": "48aHNDcnULeR"
      },
      "outputs": [
        {
          "data": {
            "image/png": "[encoded data removed]",
            "text/plain": [
              "<Figure size 640x480 with 1 Axes>"
            ]
          },
          "metadata": {},
          "output_type": "display_data"
        }
      ],
      "source": [
        "# Plot learning curve (with costs)\n",
        "costs = np.squeeze(my_neuron['costs'])\n",
        "plt.plot(costs)\n",
        "plt.ylabel('cost')\n",
        "plt.xlabel('iterations (per hundreds)')\n",
        "plt.title(\"Training Cost for Learning Rate =\" + str(my_neuron[\"learning_rate\"]))\n",
        "\n",
        "plt.show()"
      ]
    },
    {
      "cell_type": "markdown",
      "metadata": {
        "id": "p8x9oiBcU32D"
      },
      "source": [
        "\n",
        "### 2.10 Choice of learning rate\n",
        "\n",
        "**Reminder**:\n",
        "In order for Gradient Descent to work you must choose the learning rate wisely $\\left(\\alpha \\in (0,1)\\right)$. The learning rate $\\alpha$ determines how rapidly we update the parameters. If the learning rate is too large we may \"overshoot\" the optimal value. Similarly, if it is too small we will need too many iterations to converge to the best values. That's why it is crucial to use a well-tuned learning rate.\n",
        "**Task**\n",
        "- Run the training algorithm for different learning rates.\n",
        "- Plot the Cost for each experiment on the same figure.\n"
      ]
    },
    {
      "cell_type": "code",
      "execution_count": 39,
      "metadata": {
        "id": "ypLDTFfTV-3U"
      },
      "outputs": [
        {
          "name": "stdout",
          "output_type": "stream",
          "text": [
            "Training a model with learning rate: 0.0001\n",
            "train accuracy: 99.43199920654297 %\n",
            "test accuracy: 99.43199920654297 %\n",
            "\n",
            "-------------------------------------------------------\n",
            "\n",
            "Training a model with learning rate: 0.001\n",
            "train accuracy: 99.62899780273438 %\n",
            "test accuracy: 99.62899780273438 %\n",
            "\n",
            "-------------------------------------------------------\n",
            "\n",
            "Training a model with learning rate: 0.01\n",
            "train accuracy: 99.73899841308594 %\n",
            "test accuracy: 99.73899841308594 %\n",
            "\n",
            "-------------------------------------------------------\n",
            "\n",
            "Training a model with learning rate: 0.1\n",
            "train accuracy: 99.8499984741211 %\n",
            "test accuracy: 99.8499984741211 %\n",
            "\n",
            "-------------------------------------------------------\n",
            "\n",
            "Training a model with learning rate: 0.5\n",
            "train accuracy: 99.89700317382812 %\n",
            "test accuracy: 99.89700317382812 %\n",
            "\n",
            "-------------------------------------------------------\n",
            "\n"
          ]
        },
        {
          "data": {
            "image/png": "[encoded data removed]",
            "text/plain": [
              "<Figure size 640x480 with 1 Axes>"
            ]
          },
          "metadata": {},
          "output_type": "display_data"
        }
      ],
      "source": [
        "learning_rates = [0.0001, 0.001, .01, .1, 0.5]\n",
        "models = {}\n",
        "\n",
        "for lr in learning_rates:\n",
        "    print (\"Training a model with learning rate: \" + str(lr))\n",
        "    models[str(lr)] = train_model(train_X, train_Y, test_X, test_Y, num_iterations=1000, learning_rate=lr, print_cost=False)\n",
        "    print(\"train accuracy: {} %\".format(models[str(lr)][\"train_accuracy\"]))\n",
        "    print(\"test accuracy: {} %\".format(models[str(lr)][\"test_accuracy\"]))\n",
        "    print ('\\n' + \"-------------------------------------------------------\" + '\\n')\n",
        "\n",
        "for lr in learning_rates:\n",
        "    plt.plot(np.squeeze(models[str(lr)][\"costs\"]), label=str(models[str(lr)][\"learning_rate\"]))\n",
        "\n",
        "plt.ylabel('cost')\n",
        "plt.xlabel('iterations (hundreds)')\n",
        "plt.title(\"Training COST for Multiple Learning Rates\")\n",
        "legend = plt.legend(loc='upper center', shadow=True)\n",
        "frame = legend.get_frame()\n",
        "frame.set_facecolor('0.90')\n",
        "plt.show()"
      ]
    },
    {
      "cell_type": "markdown",
      "metadata": {
        "id": "WQrX73u0VINS"
      },
      "source": [
        "### 2.11 Try your own handwritten 0 or 1\n",
        "\n",
        "**Tasks**\n",
        "1. Handwrite a zero or one in a white page.\n",
        "2. Take a picture of your number and crop the image with a squared layout.\n",
        "3. Save the picture to the data folder in JPG format and with filename `my_image.jpg`. Same folder where the MNIST dataset is located."
      ]
    },
    {
      "cell_type": "code",
      "execution_count": 40,
      "metadata": {
        "id": "4tVm1yOVVPCt"
      },
      "outputs": [
        {
          "name": "stdout",
          "output_type": "stream",
          "text": [
            "y = tensor(True), your algorithm predicts a \"1\" picture.\n"
          ]
        },
        {
          "data": {
            "image/png": "[encoded data removed]",
            "text/plain": [
              "<Figure size 640x480 with 1 Axes>"
            ]
          },
          "metadata": {},
          "output_type": "display_data"
        }
      ],
      "source": [
        "\n",
        "from PIL import Image, ImageEnhance, ImageChops\n",
        "\n",
        "# change this to the name of your image file and data folder\n",
        "fname = \"my_image1.jpg\"\n",
        "\n",
        "num_px = 28\n",
        "\n",
        "# Load and reshape the image to fit algorithm.\n",
        "image = Image.open(fname).convert('L').resize((num_px, num_px))\n",
        "\n",
        "#image = np.array(image)\n",
        "enhancer = ImageEnhance.Contrast(image)\n",
        "image = enhancer.enhance(1.5)\n",
        "image = ImageChops.invert(image)\n",
        "\n",
        "# Preprocess the image to fit your algorithm.\n",
        "image = np.array(image)\n",
        "\n",
        "# Normalize\n",
        "image = image.astype(float) / 255.0\n",
        "\n",
        "# Display image\n",
        "plt.imshow(image)\n",
        "\n",
        "# Flatten inputs\n",
        "image = image.reshape((1, num_px * num_px)).T\n",
        "\n",
        "# Change to Tensor and prep for matrix multiplication\n",
        "image = torch.tensor(image, dtype=torch.float32)\n",
        "image = image.T\n",
        "\n",
        "# Attempt at categorizing image\n",
        "my_predicted_image = predict(my_neuron[\"w\"], my_neuron[\"b\"], image)\n",
        "\n",
        "my_predicted_image = np.squeeze(my_predicted_image)\n",
        "\n",
        "print(\"y = \" + str(my_predicted_image)\n",
        "      + \", your algorithm predicts a \\\"\" + str(int(my_predicted_image)) +  \"\\\" picture.\")"
      ]
    }
  ],
  "metadata": {
    "colab": {
      "provenance": [],
      "toc_visible": true
    },
    "kernelspec": {
      "display_name": "base",
      "language": "python",
      "name": "python3"
    },
    "language_info": {
      "codemirror_mode": {
        "name": "ipython",
        "version": 3
      },
      "file_extension": ".py",
      "mimetype": "text/x-python",
      "name": "python",
      "nbconvert_exporter": "python",
      "pygments_lexer": "ipython3",
      "version": "3.11.5"
    }
  },
  "nbformat": 4,
  "nbformat_minor": 0
}
